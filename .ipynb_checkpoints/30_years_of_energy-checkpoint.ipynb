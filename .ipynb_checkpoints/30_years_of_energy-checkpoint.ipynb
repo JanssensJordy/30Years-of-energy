{
 "cells": [
  {
   "cell_type": "code",
   "execution_count": null,
   "metadata": {},
   "outputs": [],
   "source": [
    "             _____ _   _  __        _____ _   _ ____    ______   ___  _        _    ____  \n",
    "            | ____| | | | \\ \\      / /_ _| \\ | |  _ \\  / / ___| / _ \\| |      / \\  |  _ \\ \n",
    "            |  _| | | | |  \\ \\ /\\ / / | ||  \\| | | | |/ /\\___ \\| | | | |     / _ \\ | |_) |\n",
    "            | |___| |_| |   \\ V  V /  | || |\\  | |_| / /  ___) | |_| | |___ / ___ \\|  _ < \n",
    "            |_____|\\___/     \\_/\\_/  |___|_| \\_|____/_/  |____/ \\___/|_____/_/   \\_\\_| \\_\\\n",
    "                     _  ___   ___   __             ____   ___  _ ____  \n",
    "                    / |/ _ \\ ( _ ) / /_           |___ \\ / _ \\/ | ___| \n",
    "                    | | (_) |/ _ \\| '_ \\   _____    __) | | | | |___ \\ \n",
    "                    | |\\__, | (_) | (_) | |_____|  / __/| |_| | |___) |\n",
    "                    |_|  /_/ \\___/ \\___/          |_____|\\___/|_|____/ \n",
    "                                                //\n",
    "                                              ,//\n",
    "                                  ___   /|   |//\n",
    "                              `__/\\_ --(/|___/-/\n",
    "                           \\|\\_-\\___ __-_`- /-/ \\.\n",
    "                          |\\_-___,-\\_____--/_)' ) \\\n",
    "                           \\ -_ /     __ \\( `( __`\\|\n",
    "                           `\\__|      |\\)\\ ) /(/|\n",
    "   ,._____.,            ',--//-|      \\  |  '   /\n",
    "  /     __. \\,          / /,---|       \\       /\n",
    " / /    _. \\  \\        `/`_/ _,'        |     |\n",
    "|  | ( (  \\   |      ,/\\'__/'/          |     |\n",
    "|  \\  \\`--, `_/_------______/           \\(   )/\n",
    "| | \\  \\_. \\,                            \\___/\\\n",
    "| |  \\_   \\  \\                                 \\\n",
    "\\ \\    \\_ \\   \\   /                             \\\n",
    " \\ \\  \\._  \\__ \\_|       |                       \\\n",
    "  \\ \\___  \\      \\       |                        \\\n",
    "   \\__ \\__ \\  \\_ |       \\                         |\n",
    "   |  \\_____ \\  ____      |                        |\n",
    "   | \\  \\__ ---' .__\\     |        |               |\n",
    "   \\  \\__ ---   /   )     |        \\              /\n",
    "    \\   \\____/ / ()(      \\          `---_       /|\n",
    "     \\__________/(,--__    \\_________.    |    ./ |\n",
    "       |     \\ \\  `---_\\--,           \\   \\_,./   |\n",
    "       |      \\  \\_ ` \\    /`---_______-\\   \\\\    /\n",
    "        \\      \\.___,`|   /              \\   \\\\   \\\n",
    "         \\     |  \\_ \\|   \\              (   |:    |\n",
    "          \\    \\      \\    |             /  / |    ;\n",
    "           \\    \\      \\    \\          ( `_'   \\  |\n",
    "            \\.   \\      \\.   \\          `__/   |  |\n",
    "              \\   \\       \\.  \\                |  |\n",
    "               \\   \\        \\  \\               (  )\n",
    "                \\   |        \\  |              |  |\n",
    "                 |  \\         \\ \\              I  `\n",
    "                 ( __;        ( _;            ('-_';\n",
    "                 |___\\        \\___:            \\___:\n"
   ]
  },
  {
   "cell_type": "code",
   "execution_count": 34,
   "metadata": {},
   "outputs": [
    {
     "name": "stdout",
     "output_type": "stream",
     "text": [
      "+-----+\n",
      "|hello|\n",
      "+-----+\n",
      "|spark|\n",
      "+-----+\n",
      "\n"
     ]
    }
   ],
   "source": [
    "import findspark\n",
    "findspark.init()\n",
    "\n",
    "import pyspark # only run after findspark.init()\n",
    "from pyspark.sql import SparkSession\n",
    "\n",
    "from pyspark import SparkConf\n",
    "import pyfiglet \n",
    "\n",
    "#Functionality imports\n",
    "import datetime\n",
    "from pyspark.sql.types import *\n",
    "from pyspark.sql import *\n",
    "from pyspark.sql.types import *\n",
    "import folium\n",
    "from IPython.display import HTML, clear_output\n",
    "%matplotlib inline\n",
    "import matplotlib.pyplot as plt\n",
    "from pyspark.mllib.stat import Statistics\n",
    "import ipywidgets as widgets\n",
    "from IPython.display import clear_output\n",
    "from ipywidgets import interact, interact_manual\n",
    "from pyspark.sql.functions import to_date\n",
    "from pyspark.sql.functions import date_format\n",
    "\n",
    "sc = SparkSession.builder.getOrCreate()\n",
    "\n",
    "#Configure to use 4 cores\n",
    "conf = pyspark.SparkConf().setAll([('spark.executor.memory', '160g'), ('spark.executor.cores', '4'), ('spark.cores.max', '4'), ('spark.driver.memory','160g')])\n",
    "sc.stop()\n",
    "sc = pyspark.SparkContext(conf=conf)\n",
    "\n",
    "sqlContext = SQLContext(sc)\n",
    "\n",
    "sqlContext.setConf('spark.sql.shuffle.partitions', '8')\n",
    "df = sqlContext.sql('''select 'spark' as hello ''')\n",
    "df.show()"
   ]
  },
  {
   "cell_type": "code",
   "execution_count": 2,
   "metadata": {
    "scrolled": true
   },
   "outputs": [],
   "source": [
    "def make_yearly(data):\n",
    "    data_yearly = []\n",
    "    hour_in_year = 0\n",
    "    year_sum = 0\n",
    "    hours = data.collect()\n",
    "    for hour in hours:\n",
    "        normalised_hour = 0\n",
    "        if (hour[0] is None):\n",
    "            normalised_hour = 0\n",
    "        else:\n",
    "            normalised_hour = float(hour[0])\n",
    "        year_sum += normalised_hour\n",
    "        hour_in_year += 1\n",
    "        if(hour_in_year == 24*365):\n",
    "            data_yearly.append(year_sum)\n",
    "            year_sum = 0\n",
    "            hour_in_year = 0\n",
    "    return data_yearly\n",
    "\n",
    "def make_daily(data):\n",
    "    data_daily = {}\n",
    "    hour_in_day = 0\n",
    "    day_sum = 0\n",
    "    date = datetime.date(1986, 1, 1)\n",
    "    hours = data.collect()\n",
    "    for hour in hours:\n",
    "        normalised_hour = 0\n",
    "        if (hour[0] is None):\n",
    "            normalised_hour = 0\n",
    "        else:\n",
    "            normalised_hour = float(hour[0])\n",
    "        day_sum += normalised_hour\n",
    "        hour_in_day += 1\n",
    "        if(hour_in_day == 24):\n",
    "            data_daily[date.strftime('%Y-%m-%d')] = day_sum\n",
    "            day_sum = 0\n",
    "            hour_in_day = 0\n",
    "            date = date + datetime.timedelta(days=1)\n",
    "    return data_daily\n",
    "\n",
    "def make_daily_hourly(data):\n",
    "    data_daily = {}\n",
    "    data_hourly = []\n",
    "    hour_in_day = 0\n",
    "    date = datetime.date(1986, 1, 1)\n",
    "    hours = data.collect()\n",
    "    for hour in hours:\n",
    "        normalised_hour = 0\n",
    "        if (hour[0] is None):\n",
    "            normalised_hour = 0\n",
    "        else:\n",
    "            normalised_hour = float(hour[0])\n",
    "        data_hourly.append(normalised_hour)\n",
    "        hour_in_day += 1\n",
    "        if(hour_in_day == 24):\n",
    "            data_daily[date.strftime('%Y-%m-%d')] = data_hourly\n",
    "            data_hourly = []\n",
    "            hour_in_day = 0\n",
    "            date = date + datetime.timedelta(days=1)\n",
    "    return data_daily"
   ]
  },
  {
   "cell_type": "code",
   "execution_count": 3,
   "metadata": {
    "scrolled": false
   },
   "outputs": [
    {
     "name": "stdout",
     "output_type": "stream",
     "text": [
      "Adding all data for country AT...\n",
      "    Wind: OK!\n",
      "    Solar: OK!\n",
      "Adding all data for country BE...\n",
      "    Wind: OK!\n",
      "    Solar: OK!\n",
      "Adding all data for country BG...\n",
      "    Wind: OK!\n",
      "    Solar: OK!\n",
      "Adding all data for country CH...\n",
      "    Wind: OK!\n",
      "    Solar: OK!\n",
      "Adding all data for country CY...\n",
      "    Wind: OK!\n",
      "    Solar: OK!\n",
      "Adding all data for country CZ...\n",
      "    Wind: OK!\n",
      "    Solar: OK!\n",
      "Adding all data for country DE...\n",
      "    Wind: OK!\n",
      "    Solar: OK!\n",
      "Adding all data for country DK...\n",
      "    Wind: OK!\n",
      "    Solar: OK!\n",
      "Adding all data for country EE...\n",
      "    Wind: OK!\n",
      "    Solar: OK!\n",
      "Adding all data for country ES...\n",
      "    Wind: OK!\n",
      "    Solar: OK!\n",
      "Adding all data for country FI...\n",
      "    Wind: OK!\n",
      "    Solar: OK!\n",
      "Adding all data for country FR...\n",
      "    Wind: OK!\n",
      "    Solar: OK!\n",
      "Adding all data for country EL...\n",
      "    Wind: OK!\n",
      "    Solar: OK!\n",
      "Adding all data for country HR...\n",
      "    Wind: OK!\n",
      "    Solar: OK!\n",
      "Adding all data for country HU...\n",
      "    Wind: OK!\n",
      "    Solar: OK!\n",
      "Adding all data for country IE...\n",
      "    Wind: OK!\n",
      "    Solar: OK!\n",
      "Adding all data for country IT...\n",
      "    Wind: OK!\n",
      "    Solar: OK!\n",
      "Adding all data for country LT...\n",
      "    Wind: OK!\n",
      "    Solar: OK!\n",
      "Adding all data for country LU...\n",
      "    Wind: OK!\n",
      "    Solar: OK!\n",
      "Adding all data for country LV...\n",
      "    Wind: OK!\n",
      "    Solar: OK!\n",
      "Adding all data for country NL...\n",
      "    Wind: OK!\n",
      "    Solar: OK!\n",
      "Adding all data for country NO...\n",
      "    Wind: OK!\n",
      "    Solar: OK!\n",
      "Adding all data for country PL...\n",
      "    Wind: OK!\n",
      "    Solar: OK!\n",
      "Adding all data for country PT...\n",
      "    Wind: OK!\n",
      "    Solar: OK!\n",
      "Adding all data for country RO...\n",
      "    Wind: OK!\n",
      "    Solar: OK!\n",
      "Adding all data for country SI...\n",
      "    Wind: OK!\n",
      "    Solar: OK!\n",
      "Adding all data for country SK...\n",
      "    Wind: OK!\n",
      "    Solar: OK!\n",
      "Adding all data for country SE...\n",
      "    Wind: OK!\n",
      "    Solar: OK!\n",
      "Adding all data for country UK...\n",
      "    Wind: OK!\n",
      "    Solar: OK!\n",
      "                        ____   ___  _   _ _____                        \n",
      "__/\\____/\\____/\\____/\\_|  _ \\ / _ \\| \\ | | ____|_/\\____/\\____/\\____/\\__\n",
      "\\    /\\    /\\    /\\    / | | | | | |  \\| |  _| \\    /\\    /\\    /\\    /\n",
      "/_  _\\/_  _\\/_  _\\/_  _\\ |_| | |_| | |\\  | |___/_  _\\/_  _\\/_  _\\/_  _\\\n",
      "  \\/    \\/    \\/    \\/ |____/ \\___/|_| \\_|_____| \\/    \\/    \\/    \\/  \n",
      "                                                                       \n",
      "\n"
     ]
    }
   ],
   "source": [
    "countries = ['AT','BE','BG','CH','CY','CZ','DE','DK','EE','ES','FI','FR','EL','HR','HU','IE','IT','LT','LU','LV','NL','NO','PL','PT','RO','SI','SK','SE','UK']\n",
    "wind_production = sqlContext.read.format('com.databricks.spark.csv').options(header='true').load('./data/30Years/30-years-of-european-wind-generation/TS.CF.N2.30yr.csv')\n",
    "solar_production = sqlContext.read.format('com.databricks.spark.csv').options(header='true').load('./data/30Years/30-years-of-european-solar-generation/EMHIRES_PVGIS_TSh_CF_n2_19862015.csv')\n",
    "wind_production.registerTempTable('wind_table')\n",
    "solar_production.registerTempTable('solar_table')\n",
    "\n",
    "wind_eu_yearly = {}\n",
    "wind_eu_daily = {}\n",
    "wind_eu_hourly = {}\n",
    "solar_eu_yearly = {}\n",
    "solar_eu_daily = {}\n",
    "solar_eu_hourly = {}\n",
    "for country in countries:\n",
    "    print(\"Adding all data for country \" + country + \"...\")\n",
    "    selected = [s for s in wind_production.columns if country in s]\n",
    "    if(len(selected) > 0):\n",
    "        querry = \"SELECT \"\n",
    "        for country_column in selected:\n",
    "            querry += \"+ \" + country_column\n",
    "        querry += \" AS sum FROM wind_table\"\n",
    "        production_in_country = sqlContext.sql(querry)\n",
    "        data_country = production_in_country.rdd\n",
    "        country_yearly = make_yearly(data_country)\n",
    "        country_daily = make_daily(data_country)\n",
    "        country_hourly = make_daily_hourly(data_country)\n",
    "        wind_eu_yearly[country] = country_yearly\n",
    "        wind_eu_daily[country] = country_daily\n",
    "        wind_eu_hourly[country] = country_hourly\n",
    "    print('    Wind: OK!')\n",
    "    \n",
    "    selected = [s for s in solar_production.columns if country in s]\n",
    "    if(len(selected) > 0):\n",
    "        querry = \"SELECT \"\n",
    "        for country_column in selected:\n",
    "            querry += \"+ \" + country_column\n",
    "        querry += \" AS sum FROM solar_table\"\n",
    "        production_in_country = sqlContext.sql(querry)\n",
    "        data_country = production_in_country.rdd\n",
    "        country_yearly = make_yearly(data_country)\n",
    "        country_daily = make_daily(data_country)\n",
    "        country_hourly = make_daily_hourly(data_country)\n",
    "        solar_eu_yearly[country] = country_yearly\n",
    "        solar_eu_daily[country] = country_daily\n",
    "        solar_eu_hourly[country] = country_hourly\n",
    "    print('    Solar: OK!')\n",
    "    \n",
    "\n",
    "        \n",
    "print(pyfiglet.figlet_format(\"****DONE****\"))"
   ]
  },
  {
   "cell_type": "code",
   "execution_count": 4,
   "metadata": {},
   "outputs": [
    {
     "data": {
      "text/plain": [
       "<BarContainer object of 22 artists>"
      ]
     },
     "execution_count": 4,
     "metadata": {},
     "output_type": "execute_result"
    },
    {
     "data": {
      "image/png": "[encoded data removed]",
      "text/plain": [
       "<Figure size 1440x504 with 2 Axes>"
      ]
     },
     "metadata": {
      "needs_background": "light"
     },
     "output_type": "display_data"
    }
   ],
   "source": [
    "fig, (ax1, ax2) = plt.subplots(1, 2,figsize=(20,7))\n",
    "fig.suptitle('Production in 1986')\n",
    "\n",
    "x_axis = [c for c in wind_eu_yearly]\n",
    "y_axis = []\n",
    "for c in x_axis:\n",
    "    try:\n",
    "        y_axis.append(wind_eu_yearly[c][0])\n",
    "    except:\n",
    "        y_axis.append(0)\n",
    "ax1.set_xlabel('Wind production')\n",
    "ax1.set_ylabel('Watt?')\n",
    "ax1.bar(x_axis, y_axis, fc='navy', align='center')\n",
    "\n",
    "x_axis = [c for c in solar_eu_yearly]\n",
    "y_axis = []\n",
    "for c in x_axis:\n",
    "    try:\n",
    "        y_axis.append(solar_eu_yearly[c][0])\n",
    "    except:\n",
    "        y_axis.append(0)\n",
    "ax2.set_xlabel('Solar production')\n",
    "ax2.set_ylabel('Watt?')\n",
    "ax2.bar(x_axis, y_axis, fc='fuchsia', align='center')"
   ]
  },
  {
   "cell_type": "code",
   "execution_count": 5,
   "metadata": {
    "scrolled": false
   },
   "outputs": [
    {
     "data": {
      "text/plain": [
       "<BarContainer object of 22 artists>"
      ]
     },
     "execution_count": 5,
     "metadata": {},
     "output_type": "execute_result"
    },
    {
     "data": {
      "image/png": "[encoded data removed]",
      "text/plain": [
       "<Figure size 1440x504 with 2 Axes>"
      ]
     },
     "metadata": {
      "needs_background": "light"
     },
     "output_type": "display_data"
    }
   ],
   "source": [
    "fig, (ax1, ax2) = plt.subplots(1, 2,figsize=(20,7))\n",
    "fig.suptitle('Production in 2015')\n",
    "\n",
    "x_axis = [c for c in wind_eu_yearly]\n",
    "y_axis = []\n",
    "for c in x_axis:\n",
    "    try:\n",
    "        y_axis.append(wind_eu_yearly[c][29])\n",
    "    except:\n",
    "        y_axis.append(0)\n",
    "ax1.set_xlabel('Wind production')\n",
    "ax1.set_ylabel('Watt?')\n",
    "ax1.bar(x_axis, y_axis, fc='navy', align='center')\n",
    "\n",
    "x_axis = [c for c in solar_eu_yearly]\n",
    "y_axis = []\n",
    "for c in x_axis:\n",
    "    try:\n",
    "        y_axis.append(solar_eu_yearly[c][29])\n",
    "    except:\n",
    "        y_axis.append(0)\n",
    "ax2.set_xlabel('Solar production')\n",
    "ax2.set_ylabel('Watt?')\n",
    "ax2.bar(x_axis, y_axis, fc='fuchsia', align='center')"
   ]
  },
  {
   "cell_type": "code",
   "execution_count": 6,
   "metadata": {
    "scrolled": false
   },
   "outputs": [
    {
     "data": {
      "text/plain": [
       "<BarContainer object of 22 artists>"
      ]
     },
     "execution_count": 6,
     "metadata": {},
     "output_type": "execute_result"
    },
    {
     "data": {
      "image/png": "[encoded data removed]",
      "text/plain": [
       "<Figure size 1440x504 with 2 Axes>"
      ]
     },
     "metadata": {
      "needs_background": "light"
     },
     "output_type": "display_data"
    }
   ],
   "source": [
    "fig, (ax1, ax2) = plt.subplots(1, 2,figsize=(20,7))\n",
    "fig.suptitle('Production change 1986-2015')\n",
    "\n",
    "x_axis = [c for c in wind_eu_yearly]\n",
    "y_axis = []\n",
    "for c in x_axis:\n",
    "    try:\n",
    "        y_axis.append(wind_eu_yearly[c][0] - wind_eu_yearly[c][29])\n",
    "    except:\n",
    "        y_axis.append(0)\n",
    "ax1.set_xlabel('Wind production')\n",
    "ax1.set_ylabel('Watt?')\n",
    "ax1.bar(x_axis, y_axis, fc='navy', align='center')\n",
    "\n",
    "x_axis = [c for c in solar_eu_yearly]\n",
    "y_axis = []\n",
    "for c in x_axis:\n",
    "    try:\n",
    "        y_axis.append(solar_eu_yearly[c][29] - solar_eu_yearly[c][0])\n",
    "    except:\n",
    "        y_axis.append(0)\n",
    "ax2.set_xlabel('Solar production')\n",
    "ax2.set_ylabel('Watt?')\n",
    "ax2.bar(x_axis, y_axis, fc='fuchsia', align='center')"
   ]
  },
  {
   "cell_type": "code",
   "execution_count": 7,
   "metadata": {
    "scrolled": true
   },
   "outputs": [
    {
     "data": {
      "text/plain": [
       "<BarContainer object of 6 artists>"
      ]
     },
     "execution_count": 7,
     "metadata": {},
     "output_type": "execute_result"
    },
    {
     "data": {
      "image/png": "[encoded data removed]",
      "text/plain": [
       "<Figure size 432x288 with 1 Axes>"
      ]
     },
     "metadata": {
      "needs_background": "light"
     },
     "output_type": "display_data"
    }
   ],
   "source": [
    "#get all data of the consumption from the 3 energy providers in the Netherlands from 2010 - 2015\n",
    "en_consumption_1_2010 = sqlContext.read.format('com.databricks.spark.csv').options(header='true').load('./data/30Years/dutch-energy/Electricity/enexis_electricity_01012010.csv')\n",
    "en_consumption_1_2010.registerTempTable('energy_consumption')\n",
    "energy_consumption_1_2010 = sqlContext.sql('SELECT SUM(annual_consume) FROM energy_consumption').collect()[0][0]\n",
    "\n",
    "en_consumption_1_2011 = sqlContext.read.format('com.databricks.spark.csv').options(header='true').load('./data/30Years/dutch-energy/Electricity/enexis_electricity_01012011.csv')\n",
    "en_consumption_1_2011.registerTempTable('energy_consumption')\n",
    "energy_consumption_1_2011 = sqlContext.sql('SELECT SUM(annual_consume) FROM energy_consumption').collect()[0][0]\n",
    "\n",
    "en_consumption_1_2012 = sqlContext.read.format('com.databricks.spark.csv').options(header='true').load('./data/30Years/dutch-energy/Electricity/enexis_electricity_01012012.csv')\n",
    "en_consumption_1_2012.registerTempTable('energy_consumption')\n",
    "energy_consumption_1_2012 = sqlContext.sql('SELECT SUM(annual_consume) FROM energy_consumption').collect()[0][0]\n",
    "\n",
    "en_consumption_1_2013 = sqlContext.read.format('com.databricks.spark.csv').options(header='true').load('./data/30Years/dutch-energy/Electricity/enexis_electricity_01012013.csv')\n",
    "en_consumption_1_2013.registerTempTable('energy_consumption')\n",
    "energy_consumption_1_2013 = sqlContext.sql('SELECT SUM(annual_consume) FROM energy_consumption').collect()[0][0]\n",
    "\n",
    "en_consumption_1_2014 = sqlContext.read.format('com.databricks.spark.csv').options(header='true').load('./data/30Years/dutch-energy/Electricity/enexis_electricity_01012014.csv')\n",
    "en_consumption_1_2014.registerTempTable('energy_consumption')\n",
    "energy_consumption_1_2014 = sqlContext.sql('SELECT SUM(annual_consume) FROM energy_consumption').collect()[0][0]\n",
    "\n",
    "en_consumption_1_2015 = sqlContext.read.format('com.databricks.spark.csv').options(header='true').load('./data/30Years/dutch-energy/Electricity/enexis_electricity_01012015.csv')\n",
    "en_consumption_1_2015.registerTempTable('energy_consumption')\n",
    "energy_consumption_1_2015 = sqlContext.sql('SELECT SUM(annual_consume) FROM energy_consumption').collect()[0][0]\n",
    "\n",
    "en_consumption_2_2010 = sqlContext.read.format('com.databricks.spark.csv').options(header='true').load('./data/30Years/dutch-energy/Electricity/liander_electricity_01012010.csv')\n",
    "en_consumption_2_2010.registerTempTable('energy_consumption')\n",
    "energy_consumption_2_2010 = sqlContext.sql('SELECT SUM(annual_consume) FROM energy_consumption').collect()[0][0]\n",
    "\n",
    "en_consumption_2_2011 = sqlContext.read.format('com.databricks.spark.csv').options(header='true').load('./data/30Years/dutch-energy/Electricity/liander_electricity_01012011.csv')\n",
    "en_consumption_2_2011.registerTempTable('energy_consumption')\n",
    "energy_consumption_2_2011 = sqlContext.sql('SELECT SUM(annual_consume) FROM energy_consumption').collect()[0][0]\n",
    "\n",
    "en_consumption_2_2012 = sqlContext.read.format('com.databricks.spark.csv').options(header='true').load('./data/30Years/dutch-energy/Electricity/liander_electricity_01012012.csv')\n",
    "en_consumption_2_2012.registerTempTable('energy_consumption')\n",
    "energy_consumption_2_2012 = sqlContext.sql('SELECT SUM(annual_consume) FROM energy_consumption').collect()[0][0]\n",
    "\n",
    "en_consumption_2_2013 = sqlContext.read.format('com.databricks.spark.csv').options(header='true').load('./data/30Years/dutch-energy/Electricity/liander_electricity_01012013.csv')\n",
    "en_consumption_2_2013.registerTempTable('energy_consumption')\n",
    "energy_consumption_2_2013 = sqlContext.sql('SELECT SUM(annual_consume) FROM energy_consumption').collect()[0][0]\n",
    "\n",
    "en_consumption_2_2014 = sqlContext.read.format('com.databricks.spark.csv').options(header='true').load('./data/30Years/dutch-energy/Electricity/liander_electricity_01012014.csv')\n",
    "en_consumption_2_2014.registerTempTable('energy_consumption')\n",
    "energy_consumption_2_2014 = sqlContext.sql('SELECT SUM(annual_consume) FROM energy_consumption').collect()[0][0]\n",
    "\n",
    "en_consumption_2_2015 = sqlContext.read.format('com.databricks.spark.csv').options(header='true').load('./data/30Years/dutch-energy/Electricity/liander_electricity_01012015.csv')\n",
    "en_consumption_2_2015.registerTempTable('energy_consumption')\n",
    "energy_consumption_2_2015 = sqlContext.sql('SELECT SUM(annual_consume) FROM energy_consumption').collect()[0][0]\n",
    "\n",
    "en_consumption_3_2010 = sqlContext.read.format('com.databricks.spark.csv').options(header='true').load('./data/30Years/dutch-energy/Electricity/stedin_electricity_2010.csv')\n",
    "en_consumption_3_2010.registerTempTable('energy_consumption')\n",
    "energy_consumption_3_2010 = sqlContext.sql('SELECT SUM(annual_consume) FROM energy_consumption').collect()[0][0]\n",
    "\n",
    "en_consumption_3_2011 = sqlContext.read.format('com.databricks.spark.csv').options(header='true').load('./data/30Years/dutch-energy/Electricity/stedin_electricity_2011.csv')\n",
    "en_consumption_3_2011.registerTempTable('energy_consumption')\n",
    "energy_consumption_3_2011 = sqlContext.sql('SELECT SUM(annual_consume) FROM energy_consumption').collect()[0][0]\n",
    "\n",
    "en_consumption_3_2012 = sqlContext.read.format('com.databricks.spark.csv').options(header='true').load('./data/30Years/dutch-energy/Electricity/stedin_electricity_2012.csv')\n",
    "en_consumption_3_2012.registerTempTable('energy_consumption')\n",
    "energy_consumption_3_2012 = sqlContext.sql('SELECT SUM(annual_consume) FROM energy_consumption').collect()[0][0]\n",
    "\n",
    "en_consumption_3_2013 = sqlContext.read.format('com.databricks.spark.csv').options(header='true').load('./data/30Years/dutch-energy/Electricity/stedin_electricity_2013.csv')\n",
    "en_consumption_3_2013.registerTempTable('energy_consumption')\n",
    "energy_consumption_3_2013 = sqlContext.sql('SELECT SUM(annual_consume) FROM energy_consumption').collect()[0][0]\n",
    "\n",
    "en_consumption_3_2014 = sqlContext.read.format('com.databricks.spark.csv').options(header='true').load('./data/30Years/dutch-energy/Electricity/stedin_electricity_2014.csv')\n",
    "en_consumption_3_2014.registerTempTable('energy_consumption')\n",
    "energy_consumption_3_2014 = sqlContext.sql('SELECT SUM(annual_consume) FROM energy_consumption').collect()[0][0]\n",
    "\n",
    "en_consumption_3_2015 = sqlContext.read.format('com.databricks.spark.csv').options(header='true').load('./data/30Years/dutch-energy/Electricity/stedin_electricity_2015.csv')\n",
    "en_consumption_3_2015.registerTempTable('energy_consumption')\n",
    "energy_consumption_3_2015 = sqlContext.sql('SELECT SUM(annual_consume) FROM energy_consumption').collect()[0][0]\n",
    "\n",
    "#add all data in 1 value\n",
    "energy_2010 = energy_consumption_1_2010 + energy_consumption_2_2010 + energy_consumption_3_2010\n",
    "energy_2011 = energy_consumption_1_2011 + energy_consumption_2_2011 + energy_consumption_3_2011\n",
    "energy_2012 = energy_consumption_1_2012 + energy_consumption_2_2012 + energy_consumption_3_2012\n",
    "energy_2013 = energy_consumption_1_2013 + energy_consumption_2_2013 + energy_consumption_3_2013\n",
    "energy_2014 = energy_consumption_1_2014 + energy_consumption_2_2014 + energy_consumption_3_2014\n",
    "energy_2015 = energy_consumption_1_2015 + energy_consumption_2_2015 + energy_consumption_3_2015\n",
    "\n",
    "wind_production = sqlContext.read.format('com.databricks.spark.csv').options(header='true').load('./data/30Years/30-years-of-european-wind-generation/TS.CF.N2.30yr.csv')\n",
    "wind_production.registerTempTable('wind_table')\n",
    "wind_production_nl = sqlContext.sql('SELECT NL11 + NL12 + NL13 + NL21 + NL22 + NL23 + NL31 + NL32 + NL33 + NL34 + NL41 + NL42 AS sum FROM wind_table')\n",
    "wind_data_nl = wind_production_nl.rdd\n",
    "\n",
    "solar_production = sqlContext.read.format('com.databricks.spark.csv').options(header='true').load('./data/30Years/30-years-of-european-solar-generation/EMHIRES_PVGIS_TSh_CF_n2_19862015.csv')\n",
    "solar_production.registerTempTable('solar_table')\n",
    "solar_production_nl = sqlContext.sql('SELECT NL11 + NL12 + NL13 + NL21 + NL22 + NL23 + NL31 + NL32 + NL33 + NL34 + NL41 + NL42 AS sum FROM solar_table')\n",
    "solar_data_nl = solar_production_nl.rdd\n",
    "\n",
    "wind_nl_yearly = make_yearly(wind_data_nl)\n",
    "solar_nl_yearly = make_yearly(solar_data_nl)\n",
    "\n",
    "\n",
    "#plot\n",
    "plt.ylim(1450000000, 1580000000)\n",
    "plt.xlim(-1,6)\n",
    "plt.ylabel('(GW)',rotation=0, labelpad=20)\n",
    "plt.title('Energie consumptie in Nederland')\n",
    "plt.bar(['2010', '2011', '2012', '2013', '2014', '2015'],[energy_2010, energy_2011, energy_2012, energy_2013, energy_2014, energy_2015])"
   ]
  },
  {
   "cell_type": "code",
   "execution_count": 8,
   "metadata": {},
   "outputs": [],
   "source": [
    "last_five_years = 25\n",
    "wind_count = 0\n",
    "wind_nl_2010_2015 = []\n",
    "for item in wind_nl_yearly:\n",
    "    wind_count += 1\n",
    "    if(wind_count >= last_five_years):\n",
    "        wind_nl_2010_2015.append(item)\n",
    "\n",
    "solar_count = 0\n",
    "solar_nl_2010_2015 = []\n",
    "for item in solar_nl_yearly:\n",
    "    solar_count += 1\n",
    "    if(solar_count >= last_five_years):\n",
    "        solar_nl_2010_2015.append(item)\n",
    "\n",
    "energy_consumption = []\n",
    "energy_consumption.append(energy_2010)\n",
    "energy_consumption.append(energy_2011)\n",
    "energy_consumption.append(energy_2012)\n",
    "energy_consumption.append(energy_2013)\n",
    "energy_consumption.append(energy_2014)\n",
    "energy_consumption.append(energy_2015)"
   ]
  },
  {
   "cell_type": "code",
   "execution_count": 46,
   "metadata": {},
   "outputs": [],
   "source": [
    "def create_pie_chart(jaar,dontkeep):\n",
    "    if(not bool(dontkeep)):\n",
    "        clear_output()\n",
    "        display(picker)  \n",
    "        display(toggle)\n",
    "        display(button)\n",
    "    wind = wind_nl_2010_2015[jaar]\n",
    "    solar = solar_nl_2010_2015[jaar]\n",
    "    other = energy_consumption[jaar]/10000 - wind - solar\n",
    "    consumption = energy_consumption[jaar]/10000\n",
    "    total = consumption / consumption * 100\n",
    "    wind_percentage = wind / consumption * 100\n",
    "    solar_percentage = solar / consumption * 100\n",
    "    other_percentage = other / consumption * 100\n",
    "    labels = 'wind', 'zon', 'overig'\n",
    "    sizes = [wind_percentage, solar_percentage, other_percentage]\n",
    "    fig1, ax1 = plt.subplots()\n",
    "    ax1.pie(sizes, labels=labels, autopct='%1.1f%%',\n",
    "            shadow=True, startangle=90)\n",
    "    ax1.axis('equal')\n",
    "    plt.title('Energie consumptie in Nederland ')\n",
    "    plt.show()"
   ]
  },
  {
   "cell_type": "code",
   "execution_count": 47,
   "metadata": {},
   "outputs": [
    {
     "data": {
      "application/vnd.jupyter.widget-view+json": {
       "model_id": "c6385fb7e1254bdca8196e5f43012dad",
       "version_major": 2,
       "version_minor": 0
      },
      "text/plain": [
       "Dropdown(description='Jaar:', index=5, options=(('2010', 0), ('2011', 1), ('2012', 2), ('2013', 3), ('2014', 4…"
      ]
     },
     "metadata": {},
     "output_type": "display_data"
    },
    {
     "data": {
      "application/vnd.jupyter.widget-view+json": {
       "model_id": "12480935fc984b17b9c28752bda395b1",
       "version_major": 2,
       "version_minor": 0
      },
      "text/plain": [
       "Checkbox(value=False, description='Behoud diagrammen')"
      ]
     },
     "metadata": {},
     "output_type": "display_data"
    },
    {
     "data": {
      "application/vnd.jupyter.widget-view+json": {
       "model_id": "0b5d5daedd334f18bf8ef7a8fbeaf54c",
       "version_major": 2,
       "version_minor": 0
      },
      "text/plain": [
       "Button(description='Zoek', style=ButtonStyle())"
      ]
     },
     "metadata": {},
     "output_type": "display_data"
    },
    {
     "data": {
      "image/png": "[encoded data removed]",
      "text/plain": [
       "<Figure size 432x288 with 1 Axes>"
      ]
     },
     "metadata": {},
     "output_type": "display_data"
    },
    {
     "data": {
      "image/png": "[encoded data removed]",
      "text/plain": [
       "<Figure size 432x288 with 1 Axes>"
      ]
     },
     "metadata": {},
     "output_type": "display_data"
    }
   ],
   "source": [
    "picker = widgets.Dropdown(\n",
    "    options=[('2010', 0), ('2011', 1), ('2012', 2), ('2013', 3), ('2014', 4), ('2015', 5)],\n",
    "    description='Jaar:',\n",
    "    disabled=False,\n",
    ")\n",
    "toggle = widgets.Checkbox(\n",
    "    value=False,\n",
    "    description='Behoud diagrammen',\n",
    "    disabled=False\n",
    ")\n",
    "button = widgets.Button(\n",
    "    description='Zoek'\n",
    ")\n",
    "display(picker)  \n",
    "display(toggle)\n",
    "display(button)\n",
    "def pick_year(b):\n",
    "    create_pie_chart(picker.value,toggle.value)\n",
    "button.on_click(pick_year)"
   ]
  },
  {
   "cell_type": "code",
   "execution_count": 52,
   "metadata": {},
   "outputs": [],
   "source": [
    "def show_eu_production_for_day(date,dontkeep):\n",
    "    if(not bool(dontkeep)):\n",
    "        clear_output()\n",
    "        display(selected_date)\n",
    "        display(selected_country)\n",
    "        display(toggle)\n",
    "        display(button)\n",
    "    fig, (ax1, ax2) = plt.subplots(1, 2,figsize=(20,7))\n",
    "    fig.suptitle('Production on ' + date)\n",
    "\n",
    "    x_axis = [c for c in wind_eu_yearly]\n",
    "    y_axis = []\n",
    "    for c in x_axis:\n",
    "        try:\n",
    "            y_axis.append(wind_eu_daily[c][date])\n",
    "        except:\n",
    "            y_axis.append(0)\n",
    "    ax1.set_xlabel('Wind production')\n",
    "    ax1.set_ylabel('Watt?')\n",
    "    ax1.bar(x_axis, y_axis, fc='navy', align='center')\n",
    "\n",
    "    x_axis = [c for c in solar_eu_yearly]\n",
    "    y_axis = []\n",
    "    for c in x_axis:\n",
    "        try:\n",
    "            y_axis.append(solar_eu_daily[c][date])\n",
    "        except:\n",
    "            y_axis.append(0)\n",
    "    ax2.set_xlabel('Solar production')\n",
    "    ax2.set_ylabel('Watt?')\n",
    "    ax2.bar(x_axis, y_axis, fc='fuchsia', align='center')\n",
    "\n",
    "def show_country_production_for_day(date, country,dontkeep):\n",
    "    if(not bool(dontkeep)):\n",
    "        clear_output()\n",
    "        display(selected_date)\n",
    "        display(selected_country)\n",
    "        display(toggle)\n",
    "        display(button)\n",
    "    fig, (ax1, ax2) = plt.subplots(1, 2,figsize=(20,7))\n",
    "    fig.suptitle('Production on ' + date)\n",
    "    try:\n",
    "        ax1.set_xlabel('Wind production')\n",
    "        ax1.set_ylabel('Watt?')\n",
    "        ax1.plot(wind_eu_hourly[country][date])\n",
    "    except:\n",
    "        print(\"Geen wind data voor \" + country + \" op \" + date)\n",
    "        \n",
    "    try:\n",
    "        ax2.set_xlabel('Solar production')\n",
    "        ax2.set_ylabel('Watt?')\n",
    "        ax2plt.plot(solar_eu_hourly[country][date])\n",
    "    except:\n",
    "        print(\"Geen solar data voor \" + country + \" op \" + date)\n",
    "        \n",
    "def show_country_production_for_30years(country,dontkeep):\n",
    "    if(not bool(dontkeep)):\n",
    "        clear_output()\n",
    "        display(selected_date)\n",
    "        display(selected_country)\n",
    "        display(toggle)\n",
    "        display(button)\n",
    "    try:\n",
    "        fig, ax1 = plt.subplots(1, 1,figsize=(20,7))\n",
    "        ax1.plot(wind_eu_yearly[country],'-b', label='Wind')\n",
    "        ax1.plot(solar_eu_yearly[country],'--r', label='Solar')\n",
    "        fig.suptitle('Production for ' + country)\n",
    "        leg = ax1.legend();\n",
    "    except:\n",
    "        print(\"Geen data voor \" + country)"
   ]
  },
  {
   "cell_type": "code",
   "execution_count": 53,
   "metadata": {
    "scrolled": false
   },
   "outputs": [
    {
     "data": {
      "application/vnd.jupyter.widget-view+json": {
       "model_id": "761307cb403f4882915d0c4937013124",
       "version_major": 2,
       "version_minor": 0
      },
      "text/plain": [
       "DatePicker(value=datetime.date(2009, 6, 9), description='Dag: ')"
      ]
     },
     "metadata": {},
     "output_type": "display_data"
    },
    {
     "data": {
      "application/vnd.jupyter.widget-view+json": {
       "model_id": "c9119f9f7d6a4eab93ae95f66c55b058",
       "version_major": 2,
       "version_minor": 0
      },
      "text/plain": [
       "Combobox(value='', description='Land: ', options=('AT', 'BE', 'BG', 'CH', 'CY', 'CZ', 'DE', 'DK', 'EE', 'ES', …"
      ]
     },
     "metadata": {},
     "output_type": "display_data"
    },
    {
     "data": {
      "application/vnd.jupyter.widget-view+json": {
       "model_id": "06ec434072594a3c9f7212cf62916864",
       "version_major": 2,
       "version_minor": 0
      },
      "text/plain": [
       "Checkbox(value=False, description='Behoud diagrammen')"
      ]
     },
     "metadata": {},
     "output_type": "display_data"
    },
    {
     "data": {
      "application/vnd.jupyter.widget-view+json": {
       "model_id": "6abd2c665e294712b16d15c27c790ce0",
       "version_major": 2,
       "version_minor": 0
      },
      "text/plain": [
       "Button(description='Kies', style=ButtonStyle())"
      ]
     },
     "metadata": {},
     "output_type": "display_data"
    },
    {
     "data": {
      "image/png": "[encoded data removed]",
      "text/plain": [
       "<Figure size 1440x504 with 2 Axes>"
      ]
     },
     "metadata": {
      "needs_background": "light"
     },
     "output_type": "display_data"
    },
    {
     "name": "stdout",
     "output_type": "stream",
     "text": [
      "Geen solar data voor FR op 2009-06-09\n"
     ]
    },
    {
     "data": {
      "image/png": "[encoded data removed]",
      "text/plain": [
       "<Figure size 1440x504 with 2 Axes>"
      ]
     },
     "metadata": {
      "needs_background": "light"
     },
     "output_type": "display_data"
    }
   ],
   "source": [
    "selected_country = widgets.Combobox(\n",
    "    placeholder='De volledige EU',\n",
    "    options=countries,\n",
    "    description='Land: ',\n",
    "    ensure_option=False,\n",
    "    disabled=False\n",
    ")\n",
    "\n",
    "selected_date = widgets.DatePicker(\n",
    "    description='Dag: ',\n",
    "    disabled=False\n",
    ")\n",
    "toggle = widgets.Checkbox(\n",
    "    value=False,\n",
    "    description='Behoud diagrammen',\n",
    "    disabled=False\n",
    ")\n",
    "button = widgets.Button(description=\"Kies\")\n",
    "\n",
    "display(selected_date)\n",
    "display(selected_country)\n",
    "display(toggle)\n",
    "display(button)\n",
    "\n",
    "def kies_datum(b):\n",
    "    if(selected_country.value == ''):\n",
    "        if(selected_date.value is None):\n",
    "            print(\"Gelieve een waarde in te geven.\")\n",
    "        else:\n",
    "            show_eu_production_for_day(selected_date.value.strftime('%Y-%m-%d'),toggle.value)\n",
    "    else:\n",
    "        if(selected_date.value is None):\n",
    "            show_country_production_for_30years(selected_country.value,toggle.value)\n",
    "        else:\n",
    "            show_country_production_for_day(selected_date.value.strftime('%Y-%m-%d'), selected_country.value,toggle.value)\n",
    "\n",
    "button.on_click(kies_datum)\n",
    "\n"
   ]
  },
  {
   "cell_type": "code",
   "execution_count": 13,
   "metadata": {
    "scrolled": true
   },
   "outputs": [
    {
     "name": "stdout",
     "output_type": "stream",
     "text": [
      " _____ _                 _                           __            \n",
      "|_   _| |__   __ _ _ __ | | __  _   _  ___  _   _   / _| ___  _ __ \n",
      "  | | | '_ \\ / _` | '_ \\| |/ / | | | |/ _ \\| | | | | |_ / _ \\| '__|\n",
      "  | | | | | | (_| | | | |   <  | |_| | (_) | |_| | |  _| (_) | |   \n",
      "  |_| |_| |_|\\__,_|_| |_|_|\\_\\  \\__, |\\___/ \\__,_| |_|  \\___/|_|   \n",
      "                                |___/                              \n",
      "                                _   _             _   _             \n",
      " _   _  ___  _   _ _ __    __ _| |_| |_ ___ _ __ | |_(_) ___  _ __  \n",
      "| | | |/ _ \\| | | | '__|  / _` | __| __/ _ \\ '_ \\| __| |/ _ \\| '_ \\ \n",
      "| |_| | (_) | |_| | |    | (_| | |_| ||  __/ | | | |_| | (_) | | | |\n",
      " \\__, |\\___/ \\__,_|_|     \\__,_|\\__|\\__\\___|_| |_|\\__|_|\\___/|_| |_|\n",
      " |___/                                                              \n",
      "\n"
     ]
    }
   ],
   "source": [
    "print(pyfiglet.figlet_format(\"Thank you for your attention\"))"
   ]
  },
  {
   "cell_type": "code",
   "execution_count": null,
   "metadata": {},
   "outputs": [],
   "source": []
  }
 ],
 "metadata": {
  "kernelspec": {
   "display_name": "Python 3",
   "language": "python",
   "name": "python3"
  },
  "language_info": {
   "codemirror_mode": {
    "name": "ipython",
    "version": 3
   },
   "file_extension": ".py",
   "mimetype": "text/x-python",
   "name": "python",
   "nbconvert_exporter": "python",
   "pygments_lexer": "ipython3",
   "version": "3.7.4"
  }
 },
 "nbformat": 4,
 "nbformat_minor": 2
}
